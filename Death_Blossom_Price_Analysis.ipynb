{
 "cells": [
  {
   "cell_type": "code",
   "execution_count": 1,
   "metadata": {},
   "outputs": [],
   "source": [
    "import pandas\n",
    "import json\n",
    "import shelve\n",
    "import gzip\n",
    "import seaborn as sns\n",
    "import tqdm\n",
    "from tqdm.notebook import tqdm\n",
    "\n",
    "sns.set_theme()\n",
    "AH_DATA = r\"Z:\\WoW_AH\\data\\norgannon.json.gz\"\n",
    "ITEMDB = r\"Z:\\WoW_AH\\data\\itemdb\""
   ]
  },
  {
   "cell_type": "markdown",
   "metadata": {},
   "source": [
    "Load in Wowhead item database"
   ]
  },
  {
   "cell_type": "code",
   "execution_count": 2,
   "metadata": {},
   "outputs": [
    {
     "data": {
      "application/vnd.jupyter.widget-view+json": {
       "model_id": "31f064efd2cf4237b0877e02a733b6d3",
       "version_major": 2,
       "version_minor": 0
      },
      "text/plain": [
       "  0%|          | 0/21638 [00:00<?, ?it/s]"
      ]
     },
     "metadata": {},
     "output_type": "display_data"
    }
   ],
   "source": [
    "item_data = {}\n",
    "with shelve.open(ITEMDB) as fh:\n",
    "    for k in tqdm(fh, total=len(fh.keys())):\n",
    "        item_data[k] = fh[k]"
   ]
  },
  {
   "cell_type": "markdown",
   "metadata": {},
   "source": [
    "Count the lines in AH_DATA so we can have a progress bar"
   ]
  },
  {
   "cell_type": "code",
   "execution_count": 3,
   "metadata": {},
   "outputs": [],
   "source": [
    "lines = 0\n",
    "with gzip.open(AH_DATA) as f:        \n",
    "    buf_size = 1024 * 1024\n",
    "    read_f = f.read # loop optimization\n",
    "\n",
    "    buf = read_f(buf_size)\n",
    "    while buf:\n",
    "        lines += buf.count(b'\\n')\n",
    "        buf = read_f(buf_size)"
   ]
  },
  {
   "cell_type": "markdown",
   "metadata": {},
   "source": [
    "Load in all auctions for Death Blossom in a pandas data frame"
   ]
  },
  {
   "cell_type": "code",
   "execution_count": 4,
   "metadata": {},
   "outputs": [
    {
     "data": {
      "application/vnd.jupyter.widget-view+json": {
       "model_id": "9f887c9e667c41beaf0adf72637194ee",
       "version_major": 2,
       "version_minor": 0
      },
      "text/plain": [
       "  0%|          | 0/2012 [00:00<?, ?it/s]"
      ]
     },
     "metadata": {},
     "output_type": "display_data"
    },
    {
     "data": {
      "text/html": [
       "<div>\n",
       "<style scoped>\n",
       "    .dataframe tbody tr th:only-of-type {\n",
       "        vertical-align: middle;\n",
       "    }\n",
       "\n",
       "    .dataframe tbody tr th {\n",
       "        vertical-align: top;\n",
       "    }\n",
       "\n",
       "    .dataframe thead th {\n",
       "        text-align: right;\n",
       "    }\n",
       "</style>\n",
       "<table border=\"1\" class=\"dataframe\">\n",
       "  <thead>\n",
       "    <tr style=\"text-align: right;\">\n",
       "      <th></th>\n",
       "      <th>id</th>\n",
       "      <th>item</th>\n",
       "      <th>quantity</th>\n",
       "      <th>unit_price</th>\n",
       "      <th>time_left</th>\n",
       "      <th>ts</th>\n",
       "      <th>item_id</th>\n",
       "      <th>item_name</th>\n",
       "      <th>item_type</th>\n",
       "    </tr>\n",
       "  </thead>\n",
       "  <tbody>\n",
       "    <tr>\n",
       "      <th>0</th>\n",
       "      <td>1449007064</td>\n",
       "      <td>{}</td>\n",
       "      <td>14</td>\n",
       "      <td>134900</td>\n",
       "      <td>SHORT</td>\n",
       "      <td>2021-02-21 11:00:18.359028339</td>\n",
       "      <td>169701</td>\n",
       "      <td>Death Blossom</td>\n",
       "      <td>Trade Goods</td>\n",
       "    </tr>\n",
       "    <tr>\n",
       "      <th>1</th>\n",
       "      <td>1449007297</td>\n",
       "      <td>{}</td>\n",
       "      <td>75</td>\n",
       "      <td>134000</td>\n",
       "      <td>SHORT</td>\n",
       "      <td>2021-02-21 11:00:18.359028339</td>\n",
       "      <td>169701</td>\n",
       "      <td>Death Blossom</td>\n",
       "      <td>Trade Goods</td>\n",
       "    </tr>\n",
       "    <tr>\n",
       "      <th>2</th>\n",
       "      <td>1449046368</td>\n",
       "      <td>{}</td>\n",
       "      <td>87</td>\n",
       "      <td>130000</td>\n",
       "      <td>LONG</td>\n",
       "      <td>2021-02-21 11:00:18.359028339</td>\n",
       "      <td>169701</td>\n",
       "      <td>Death Blossom</td>\n",
       "      <td>Trade Goods</td>\n",
       "    </tr>\n",
       "    <tr>\n",
       "      <th>3</th>\n",
       "      <td>1449053211</td>\n",
       "      <td>{}</td>\n",
       "      <td>14</td>\n",
       "      <td>130000</td>\n",
       "      <td>LONG</td>\n",
       "      <td>2021-02-21 11:00:18.359028339</td>\n",
       "      <td>169701</td>\n",
       "      <td>Death Blossom</td>\n",
       "      <td>Trade Goods</td>\n",
       "    </tr>\n",
       "    <tr>\n",
       "      <th>4</th>\n",
       "      <td>1449059455</td>\n",
       "      <td>{}</td>\n",
       "      <td>424</td>\n",
       "      <td>130000</td>\n",
       "      <td>LONG</td>\n",
       "      <td>2021-02-21 11:00:18.359028339</td>\n",
       "      <td>169701</td>\n",
       "      <td>Death Blossom</td>\n",
       "      <td>Trade Goods</td>\n",
       "    </tr>\n",
       "    <tr>\n",
       "      <th>...</th>\n",
       "      <td>...</td>\n",
       "      <td>...</td>\n",
       "      <td>...</td>\n",
       "      <td>...</td>\n",
       "      <td>...</td>\n",
       "      <td>...</td>\n",
       "      <td>...</td>\n",
       "      <td>...</td>\n",
       "      <td>...</td>\n",
       "    </tr>\n",
       "    <tr>\n",
       "      <th>152019</th>\n",
       "      <td>1497930475</td>\n",
       "      <td>{}</td>\n",
       "      <td>344</td>\n",
       "      <td>59000</td>\n",
       "      <td>VERY_LONG</td>\n",
       "      <td>2021-05-17 06:00:13.382498980</td>\n",
       "      <td>169701</td>\n",
       "      <td>Death Blossom</td>\n",
       "      <td>Trade Goods</td>\n",
       "    </tr>\n",
       "    <tr>\n",
       "      <th>152020</th>\n",
       "      <td>1497936252</td>\n",
       "      <td>{}</td>\n",
       "      <td>14</td>\n",
       "      <td>59000</td>\n",
       "      <td>VERY_LONG</td>\n",
       "      <td>2021-05-17 06:00:13.382498980</td>\n",
       "      <td>169701</td>\n",
       "      <td>Death Blossom</td>\n",
       "      <td>Trade Goods</td>\n",
       "    </tr>\n",
       "    <tr>\n",
       "      <th>152021</th>\n",
       "      <td>1497936708</td>\n",
       "      <td>{}</td>\n",
       "      <td>11</td>\n",
       "      <td>59000</td>\n",
       "      <td>LONG</td>\n",
       "      <td>2021-05-17 06:00:13.382498980</td>\n",
       "      <td>169701</td>\n",
       "      <td>Death Blossom</td>\n",
       "      <td>Trade Goods</td>\n",
       "    </tr>\n",
       "    <tr>\n",
       "      <th>152022</th>\n",
       "      <td>1497940767</td>\n",
       "      <td>{}</td>\n",
       "      <td>10</td>\n",
       "      <td>59000</td>\n",
       "      <td>VERY_LONG</td>\n",
       "      <td>2021-05-17 06:00:13.382498980</td>\n",
       "      <td>169701</td>\n",
       "      <td>Death Blossom</td>\n",
       "      <td>Trade Goods</td>\n",
       "    </tr>\n",
       "    <tr>\n",
       "      <th>152023</th>\n",
       "      <td>1497941133</td>\n",
       "      <td>{}</td>\n",
       "      <td>1070</td>\n",
       "      <td>59000</td>\n",
       "      <td>VERY_LONG</td>\n",
       "      <td>2021-05-17 06:00:13.382498980</td>\n",
       "      <td>169701</td>\n",
       "      <td>Death Blossom</td>\n",
       "      <td>Trade Goods</td>\n",
       "    </tr>\n",
       "  </tbody>\n",
       "</table>\n",
       "<p>152024 rows × 9 columns</p>\n",
       "</div>"
      ],
      "text/plain": [
       "                id item  quantity  unit_price  time_left  \\\n",
       "0       1449007064   {}        14      134900      SHORT   \n",
       "1       1449007297   {}        75      134000      SHORT   \n",
       "2       1449046368   {}        87      130000       LONG   \n",
       "3       1449053211   {}        14      130000       LONG   \n",
       "4       1449059455   {}       424      130000       LONG   \n",
       "...            ...  ...       ...         ...        ...   \n",
       "152019  1497930475   {}       344       59000  VERY_LONG   \n",
       "152020  1497936252   {}        14       59000  VERY_LONG   \n",
       "152021  1497936708   {}        11       59000       LONG   \n",
       "152022  1497940767   {}        10       59000  VERY_LONG   \n",
       "152023  1497941133   {}      1070       59000  VERY_LONG   \n",
       "\n",
       "                                  ts item_id      item_name    item_type  \n",
       "0      2021-02-21 11:00:18.359028339  169701  Death Blossom  Trade Goods  \n",
       "1      2021-02-21 11:00:18.359028339  169701  Death Blossom  Trade Goods  \n",
       "2      2021-02-21 11:00:18.359028339  169701  Death Blossom  Trade Goods  \n",
       "3      2021-02-21 11:00:18.359028339  169701  Death Blossom  Trade Goods  \n",
       "4      2021-02-21 11:00:18.359028339  169701  Death Blossom  Trade Goods  \n",
       "...                              ...     ...            ...          ...  \n",
       "152019 2021-05-17 06:00:13.382498980  169701  Death Blossom  Trade Goods  \n",
       "152020 2021-05-17 06:00:13.382498980  169701  Death Blossom  Trade Goods  \n",
       "152021 2021-05-17 06:00:13.382498980  169701  Death Blossom  Trade Goods  \n",
       "152022 2021-05-17 06:00:13.382498980  169701  Death Blossom  Trade Goods  \n",
       "152023 2021-05-17 06:00:13.382498980  169701  Death Blossom  Trade Goods  \n",
       "\n",
       "[152024 rows x 9 columns]"
      ]
     },
     "execution_count": 4,
     "metadata": {},
     "output_type": "execute_result"
    }
   ],
   "source": [
    "data = pandas.DataFrame()\n",
    "\n",
    "with gzip.open(AH_DATA) as fh:\n",
    "    for line in tqdm(fh, total=lines):\n",
    "        line = json.loads(line)\n",
    "        tmp_data = []\n",
    "        for auction in line:\n",
    "            item_id = str(auction['item']['id'])\n",
    "            if item_id != \"169701\":\n",
    "                continue\n",
    "            del auction['item']['id']\n",
    "            auction['item_id'] = item_id\n",
    "            auction['item_name'] = item_data[item_id]['name']\n",
    "            if '#text' in item_data[item_id]['class']:\n",
    "                auction['item_type'] = item_data[item_id]['class']['#text']\n",
    "            else:\n",
    "                auction['item_type'] = item_data[item_id]['class']['@id']\n",
    "            auction['ts'] = pandas.Timestamp(auction['ts'], unit='s')\n",
    "            tmp_data.append(auction)\n",
    "        data = data.append(pandas.DataFrame(tmp_data), ignore_index=True)\n",
    "data"
   ]
  },
  {
   "cell_type": "markdown",
   "metadata": {},
   "source": [
    "Find the average price per day of all of the item's auctions"
   ]
  },
  {
   "cell_type": "code",
   "execution_count": 5,
   "metadata": {
    "scrolled": true
   },
   "outputs": [
    {
     "data": {
      "text/plain": [
       "<AxesSubplot:xlabel='Day', ylabel='Avg Price'>"
      ]
     },
     "execution_count": 5,
     "metadata": {},
     "output_type": "execute_result"
    },
    {
     "data": {
      "image/png": "[encoded data removed]",
      "text/plain": [
       "<Figure size 432x288 with 1 Axes>"
      ]
     },
     "metadata": {},
     "output_type": "display_data"
    }
   ],
   "source": [
    "avg_data = {'Sunday': [0,0], 'Monday': [0,0], 'Tuesday': [0,0], 'Wednesday': [0,0], 'Thursday': [0,0], 'Friday': [0,0], 'Saturday': [0,0]}\n",
    "for i, r in data.iterrows():\n",
    "    day = r['ts'].day_name()\n",
    "    avg_data[day][0] += r['quantity']*r['unit_price']\n",
    "    avg_data[day][1] += r['quantity']\n",
    "\n",
    "plot_data = []\n",
    "for day in avg_data:\n",
    "    plot_data.append([day, avg_data[day][0]/avg_data[day][1]])\n",
    "plot_data = pandas.DataFrame(plot_data, columns=['Day', 'Avg Price'])\n",
    "sns.barplot(x=\"Day\", y=\"Avg Price\", data=plot_data)"
   ]
  },
  {
   "cell_type": "markdown",
   "metadata": {},
   "source": [
    "Find the average price per day on the cheapest 10% of the item's auctions"
   ]
  },
  {
   "cell_type": "code",
   "execution_count": 6,
   "metadata": {},
   "outputs": [
    {
     "data": {
      "application/vnd.jupyter.widget-view+json": {
       "model_id": "c4b53bf309ff4bad949395e2b33c2f03",
       "version_major": 2,
       "version_minor": 0
      },
      "text/plain": [
       "  0%|          | 0/2012 [00:00<?, ?it/s]"
      ]
     },
     "metadata": {},
     "output_type": "display_data"
    },
    {
     "data": {
      "text/plain": [
       "<AxesSubplot:xlabel='Day', ylabel='Avg Price'>"
      ]
     },
     "execution_count": 6,
     "metadata": {},
     "output_type": "execute_result"
    },
    {
     "data": {
      "image/png": "[encoded data removed]",
      "text/plain": [
       "<Figure size 432x288 with 1 Axes>"
      ]
     },
     "metadata": {},
     "output_type": "display_data"
    }
   ],
   "source": [
    "avg_data = {'Sunday': [0,0], 'Monday': [0,0], 'Tuesday': [0,0], 'Wednesday': [0,0], 'Thursday': [0,0], 'Friday': [0,0], 'Saturday': [0,0]}\n",
    "\n",
    "for ts in tqdm(data.ts.unique()):\n",
    "    pts = pandas.Timestamp(ts, unit='s')\n",
    "    hourly_data = data[data['ts'] == ts]\n",
    "    number_needed = hourly_data.quantity.sum() * .1\n",
    "    prices = data.unit_price.unique()\n",
    "    prices.sort()\n",
    "    for p in prices:\n",
    "        if number_needed <= 0:\n",
    "            break\n",
    "        hourly_at_price = hourly_data[hourly_data['unit_price'] == p]\n",
    "        hourly_at_price_i = hourly_at_price.quantity.sum()\n",
    "        if number_needed > hourly_at_price_i:\n",
    "            number_needed -= hourly_at_price_i\n",
    "            avg_data[pts.day_name()][0] += hourly_at_price_i * p\n",
    "            avg_data[pts.day_name()][1] += hourly_at_price_i\n",
    "        else:\n",
    "            number_needed -= number_needed\n",
    "            avg_data[pts.day_name()][0] += number_needed * p\n",
    "            avg_data[pts.day_name()][1] += number_needed\n",
    "            \n",
    "plot_data = []\n",
    "for day in avg_data:\n",
    "    plot_data.append([day, avg_data[day][0]/avg_data[day][1]])\n",
    "plot_data = pandas.DataFrame(plot_data, columns=['Day', 'Avg Price'])\n",
    "sns.barplot(x=\"Day\", y=\"Avg Price\", data=plot_data)"
   ]
  }
 ],
 "metadata": {
  "kernelspec": {
   "display_name": "Python 3",
   "language": "python",
   "name": "python3"
  },
  "language_info": {
   "codemirror_mode": {
    "name": "ipython",
    "version": 3
   },
   "file_extension": ".py",
   "mimetype": "text/x-python",
   "name": "python",
   "nbconvert_exporter": "python",
   "pygments_lexer": "ipython3",
   "version": "3.8.5"
  }
 },
 "nbformat": 4,
 "nbformat_minor": 5
}
